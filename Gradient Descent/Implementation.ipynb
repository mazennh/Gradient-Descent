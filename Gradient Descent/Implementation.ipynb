{
 "cells": [
  {
   "cell_type": "code",
   "execution_count": 678,
   "id": "d9fd4139-f45d-4949-839e-9121d475deb6",
   "metadata": {},
   "outputs": [],
   "source": [
    "import pandas as pd\n",
    "import numpy as np\n",
    "from sklearn.datasets import load_iris\n",
    "import matplotlib.pyplot as plt\n",
    "import matplotlib as mpl"
   ]
  },
  {
   "cell_type": "code",
   "execution_count": 623,
   "id": "77fc2612-24f1-48f8-9cbb-fa866e67c710",
   "metadata": {},
   "outputs": [
    {
     "data": {
      "text/plain": [
       "['DESCR',\n",
       " 'data',\n",
       " 'data_module',\n",
       " 'feature_names',\n",
       " 'filename',\n",
       " 'frame',\n",
       " 'target',\n",
       " 'target_names']"
      ]
     },
     "execution_count": 623,
     "metadata": {},
     "output_type": "execute_result"
    }
   ],
   "source": [
    "iris = load_iris(as_frame=True)\n",
    "dir(iris)"
   ]
  },
  {
   "cell_type": "code",
   "execution_count": 625,
   "id": "377dc239-92d1-4172-af42-8f5c3444556d",
   "metadata": {},
   "outputs": [
    {
     "data": {
      "text/plain": [
       "array([0, 0, 0, 0, 0, 0, 0, 0, 0, 0, 0, 0, 0, 0, 0, 0, 0, 0, 0, 0, 0, 0,\n",
       "       0, 0, 0, 0, 0, 0, 0, 0, 0, 0, 0, 0, 0, 0, 0, 0, 0, 0, 0, 0, 0, 0,\n",
       "       0, 0, 0, 0, 0, 0, 1, 1, 1, 1, 1, 1, 1, 1, 1, 1, 1, 1, 1, 1, 1, 1,\n",
       "       1, 1, 1, 1, 1, 1, 1, 1, 1, 1, 1, 1, 1, 1, 1, 1, 1, 1, 1, 1, 1, 1,\n",
       "       1, 1, 1, 1, 1, 1, 1, 1, 1, 1, 1, 1, 2, 2, 2, 2, 2, 2, 2, 2, 2, 2,\n",
       "       2, 2, 2, 2, 2, 2, 2, 2, 2, 2, 2, 2, 2, 2, 2, 2, 2, 2, 2, 2, 2, 2,\n",
       "       2, 2, 2, 2, 2, 2, 2, 2, 2, 2, 2, 2, 2, 2, 2, 2, 2, 2])"
      ]
     },
     "execution_count": 625,
     "metadata": {},
     "output_type": "execute_result"
    }
   ],
   "source": [
    "X = iris.data[[\"petal length (cm)\", \"petal width (cm)\"]].values\n",
    "y = iris[\"target\"].values\n",
    "y"
   ]
  },
  {
   "cell_type": "code",
   "execution_count": 627,
   "id": "2de5c597-8b4a-4f47-aaa9-f1f9cb5cf839",
   "metadata": {},
   "outputs": [],
   "source": [
    "def to_one_hot(y):\n",
    "    return np.diag(np.ones(y.max() + 1))[y]"
   ]
  },
  {
   "cell_type": "code",
   "execution_count": 629,
   "id": "52d9f67a-a5d2-4081-afbb-768dbc5faaaf",
   "metadata": {},
   "outputs": [
    {
     "data": {
      "text/plain": [
       "array([0, 0, 0, 0, 0, 0, 0, 0, 0, 0])"
      ]
     },
     "execution_count": 629,
     "metadata": {},
     "output_type": "execute_result"
    }
   ],
   "source": [
    "y[:10]"
   ]
  },
  {
   "cell_type": "code",
   "execution_count": 631,
   "id": "db245806-4323-4769-a3b1-b1efb49fd662",
   "metadata": {},
   "outputs": [],
   "source": [
    "from sklearn.model_selection import train_test_split"
   ]
  },
  {
   "cell_type": "code",
   "execution_count": 632,
   "id": "1e308a11-825e-4ada-b659-dfdcadcb0667",
   "metadata": {},
   "outputs": [],
   "source": [
    "X_train,X_test,y_train,y_test = train_test_split(X,y,test_size=0.2,random_state=42)\n",
    "X_train, X_valid, y_train, y_valid = train_test_split(X_train, y_train, test_size=0.2, random_state=42)"
   ]
  },
  {
   "cell_type": "code",
   "execution_count": 635,
   "id": "c414884a-5993-4002-ac92-f92e0dafd2d9",
   "metadata": {},
   "outputs": [],
   "source": [
    "mean = X_train.mean(axis=0)\n",
    "std = X_train.std(axis=0)\n",
    "X_train = (X_train - mean) / std\n",
    "X_valid = (X_valid - mean) / std\n",
    "X_test = (X_test - mean) / std"
   ]
  },
  {
   "cell_type": "code",
   "execution_count": 636,
   "id": "25bd262d-8d0a-41b0-be91-d9755a481c69",
   "metadata": {},
   "outputs": [
    {
     "data": {
      "text/plain": [
       "array([[0., 0., 1.],\n",
       "       [0., 1., 0.],\n",
       "       [0., 1., 0.],\n",
       "       [1., 0., 0.],\n",
       "       [0., 0., 1.],\n",
       "       [0., 0., 1.],\n",
       "       [0., 0., 1.],\n",
       "       [1., 0., 0.],\n",
       "       [0., 1., 0.],\n",
       "       [0., 0., 1.]])"
      ]
     },
     "execution_count": 636,
     "metadata": {},
     "output_type": "execute_result"
    }
   ],
   "source": [
    "y_train_onehot = to_one_hot(y_train)\n",
    "Y_valid_one_hot = to_one_hot(y_valid)\n",
    "y_train_onehot[:10]"
   ]
  },
  {
   "cell_type": "code",
   "execution_count": 712,
   "id": "0d10d1ef-e58e-4cc5-809e-3b3be05a25c1",
   "metadata": {},
   "outputs": [
    {
     "data": {
      "text/plain": [
       "array([[ 1.        ,  0.58382847,  0.77996804],\n",
       "       [ 1.        ,  0.52732894,  0.3865691 ],\n",
       "       [ 1.        , -0.03766635, -0.2690958 ],\n",
       "       [ 1.        , -1.16765695, -1.31815965],\n",
       "       [ 1.        ,  0.97932518,  1.17336698],\n",
       "       [ 1.        ,  1.09232424,  1.17336698],\n",
       "       [ 1.        ,  1.65731954,  1.042234  ],\n",
       "       [ 1.        , -1.39365507, -1.31815965],\n",
       "       [ 1.        ,  0.41432988,  0.3865691 ],\n",
       "       [ 1.        ,  1.43132142,  0.77996804]])"
      ]
     },
     "execution_count": 712,
     "metadata": {},
     "output_type": "execute_result"
    }
   ],
   "source": [
    "X_train_with_bias = np.c_[np.ones(len(X_train)), X_train]\n",
    "X_valid_with_bias = np.c_[np.ones(len(X_valid)), X_valid]\n",
    "X_test_with_bias = np.c_[np.ones(len(X_test)), X_test]\n",
    "X_train_with_bias[:10]"
   ]
  },
  {
   "cell_type": "code",
   "execution_count": 640,
   "id": "87db44ff-ba0b-40a2-9a75-9ab260704541",
   "metadata": {},
   "outputs": [
    {
     "data": {
      "text/plain": [
       "(3, 3)"
      ]
     },
     "execution_count": 640,
     "metadata": {},
     "output_type": "execute_result"
    }
   ],
   "source": [
    "n_inputs = X_train_with_bias.shape[1]  # == 3 (2 features plus the bias term)\n",
    "n_outputs = len(np.unique(y_train))  # == 3 (there are 3 iris classes)\n",
    "n_inputs,n_outputs"
   ]
  },
  {
   "cell_type": "markdown",
   "id": "3db31a5c-7b1c-4c88-ac5e-897ca6831dfc",
   "metadata": {},
   "source": [
    "# <font color = 'purple'> Implementation Gradient Descent For Softmax Without Early Stopping</font>"
   ]
  },
  {
   "cell_type": "code",
   "execution_count": 644,
   "id": "4e45ab0e-4724-4d4a-90a7-1165d8713b14",
   "metadata": {},
   "outputs": [],
   "source": [
    "def softmax(x):\n",
    "    a = np.exp(x)\n",
    "    b = a.sum(axis=1 ,keepdims = True)\n",
    "    return a/b"
   ]
  },
  {
   "cell_type": "code",
   "execution_count": 654,
   "id": "3e89e1be-8fab-4988-86e9-10ecca004bbf",
   "metadata": {},
   "outputs": [],
   "source": [
    "np.random.seed(42)\n",
    "Theta = np.random.randn(n_inputs, n_outputs)"
   ]
  },
  {
   "cell_type": "markdown",
   "id": "ccee11b7-abc4-43ff-b6f4-b8f7d2c50257",
   "metadata": {},
   "source": [
    "#### Epsilon is added to avoid taking the logarithm of zero --> log(0) = -ve(inf)"
   ]
  },
  {
   "cell_type": "code",
   "execution_count": 658,
   "id": "d9586295-279f-4f16-8e5f-7cb21870af19",
   "metadata": {},
   "outputs": [
    {
     "name": "stdout",
     "output_type": "stream",
     "text": [
      "0 3.393544130870494\n",
      "1000 0.09796287002556885\n",
      "2000 0.0911234544936842\n",
      "3000 0.08986484535129613\n",
      "4000 0.0897139176666739\n",
      "5000 0.08985470365647608\n"
     ]
    }
   ],
   "source": [
    "iteration = 5001\n",
    "learning_rate = 0.5\n",
    "m = len(X_train)\n",
    "epsilon = 1e-5\n",
    "np.random.seed(42)\n",
    "Theta = np.random.randn(n_inputs, n_outputs)\n",
    "\n",
    "for i in range(iteration):\n",
    "    logits = X_train_with_bias @ Theta\n",
    "    Y_proba = softmax(logits)\n",
    "\n",
    "    if i % 1000 == 0:\n",
    "        Y_proba_valid = softmax(X_valid_with_bias @ Theta)\n",
    "        xentropy_losses = -(Y_valid_one_hot * np.log(Y_proba_valid + epsilon))\n",
    "        print(i, xentropy_losses.sum(axis=1).mean())\n",
    "    \n",
    "    error = Y_proba - y_train_onehot\n",
    "    gradients = 1 / m * X_train_with_bias.T @ error\n",
    "    Theta = Theta - learning_rate * gradients"
   ]
  },
  {
   "cell_type": "code",
   "execution_count": 674,
   "id": "ca52e091-84a8-444d-930f-ab6112cb1fda",
   "metadata": {},
   "outputs": [
    {
     "data": {
      "text/plain": [
       "0.9583333333333334"
      ]
     },
     "execution_count": 674,
     "metadata": {},
     "output_type": "execute_result"
    }
   ],
   "source": [
    "logits = X_valid_with_bias @ Theta\n",
    "Y_proba = softmax(logits)\n",
    "y_predict = Y_proba.argmax(axis=1)\n",
    "\n",
    "accuracy_score = (y_predict == y_valid).mean()\n",
    "accuracy_score"
   ]
  },
  {
   "cell_type": "code",
   "execution_count": 688,
   "id": "29524a33-458b-4b48-8448-bc5e7e86fe91",
   "metadata": {},
   "outputs": [
    {
     "data": {
      "text/plain": [
       "1.0"
      ]
     },
     "execution_count": 688,
     "metadata": {},
     "output_type": "execute_result"
    }
   ],
   "source": [
    "logits = X_test_with_bias @ Theta\n",
    "Y_proba = softmax(logits)\n",
    "y_predict = Y_proba.argmax(axis=1)\n",
    "\n",
    "accuracy_score = (y_predict == y_test).mean()\n",
    "accuracy_score"
   ]
  },
  {
   "cell_type": "markdown",
   "id": "bb66bc09-680f-408a-9aff-febecd20e1af",
   "metadata": {},
   "source": [
    "# <font color = 'purple'> Implementation Gradient Descent For Softmax With Early Stopping </font>"
   ]
  },
  {
   "cell_type": "code",
   "execution_count": 710,
   "id": "8ab9f1ae-fa17-420a-b946-952c93e91593",
   "metadata": {},
   "outputs": [
    {
     "name": "stdout",
     "output_type": "stream",
     "text": [
      "0 3.3943\n",
      "1000 0.098\n",
      "2000 0.0911\n",
      "3000 0.0899\n",
      "3810 0.0897 early stopping!\n"
     ]
    }
   ],
   "source": [
    "iteration = 5001\n",
    "learning_rate = 0.5\n",
    "m = len(X_train)\n",
    "epsilon = 1e-5\n",
    "np.random.seed(42)\n",
    "best_loss = np.infty\n",
    "Theta = np.random.randn(n_inputs, n_outputs)\n",
    "\n",
    "for i in range(iteration):\n",
    "    logits = X_train_with_bias @ Theta\n",
    "    Y_proba = softmax(logits)\n",
    "    \n",
    "    Y_proba_valid = softmax(X_valid_with_bias @ Theta)\n",
    "    xentropy_losses = -(Y_valid_one_hot * np.log(Y_proba_valid)) # Cross entropy cost function\n",
    "    total_loss = xentropy_losses.sum(axis=1).mean()\n",
    "    \n",
    "    if i % 1000 == 0:\n",
    "        print(i, total_loss.round(4))\n",
    "\n",
    "    if total_loss < best_loss:\n",
    "        best_loss = total_loss\n",
    "\n",
    "    else:\n",
    "        print(i, total_loss.round(4), \"early stopping!\")\n",
    "        break\n",
    "    \n",
    "    error = Y_proba - y_train_onehot\n",
    "    gradients = 1 / m * X_train_with_bias.T @ error\n",
    "    Theta = Theta - learning_rate * gradients"
   ]
  },
  {
   "cell_type": "code",
   "execution_count": 739,
   "id": "1a92f042-9352-4798-a29b-8e53c633bfd6",
   "metadata": {},
   "outputs": [
    {
     "ename": "ValueError",
     "evalue": "cannot reshape array of size 96 into shape (200,500)",
     "output_type": "error",
     "traceback": [
      "\u001b[1;31m---------------------------------------------------------------------------\u001b[0m",
      "\u001b[1;31mValueError\u001b[0m                                Traceback (most recent call last)",
      "Cell \u001b[1;32mIn[739], line 13\u001b[0m\n\u001b[0;32m     10\u001b[0m Y_probab \u001b[38;5;241m=\u001b[39m softmax(logits)\n\u001b[0;32m     11\u001b[0m y_predict \u001b[38;5;241m=\u001b[39m Y_proba\u001b[38;5;241m.\u001b[39margmax(axis\u001b[38;5;241m=\u001b[39m\u001b[38;5;241m1\u001b[39m)\n\u001b[1;32m---> 13\u001b[0m zz1 \u001b[38;5;241m=\u001b[39m Y_proba[:, \u001b[38;5;241m1\u001b[39m]\u001b[38;5;241m.\u001b[39mreshape(x0\u001b[38;5;241m.\u001b[39mshape)\n\u001b[0;32m     14\u001b[0m zz \u001b[38;5;241m=\u001b[39m y_predict\u001b[38;5;241m.\u001b[39mreshape(x0\u001b[38;5;241m.\u001b[39mshape)\n\u001b[0;32m     16\u001b[0m plt\u001b[38;5;241m.\u001b[39mfigure(figsize\u001b[38;5;241m=\u001b[39m(\u001b[38;5;241m10\u001b[39m, \u001b[38;5;241m4\u001b[39m))\n",
      "\u001b[1;31mValueError\u001b[0m: cannot reshape array of size 96 into shape (200,500)"
     ]
    }
   ],
   "source": [
    "custom_cmap = mpl.colors.ListedColormap(['#fafab0', '#9898ff', '#a0faa0'])\n",
    "\n",
    "x0, x1 = np.meshgrid(np.linspace(0, 8, 500).reshape(-1, 1),\n",
    "                     np.linspace(0, 3.5, 200).reshape(-1, 1))\n",
    "X_new = np.c_[x0.ravel(), x1.ravel()]\n",
    "X_new = (X_new - mean) / std\n",
    "X_new_with_bias = np.c_[np.ones(len(X_new)), X_new]\n",
    "\n",
    "logits = X_new_with_bias @ Theta\n",
    "Y_probab = softmax(logits)\n",
    "y_predict = Y_proba.argmax(axis=1)\n",
    "\n",
    "zz1 = Y_proba[:, 1].reshape(x0.shape)\n",
    "zz = y_predict.reshape(x0.shape)\n",
    "\n",
    "plt.figure(figsize=(10, 4))\n",
    "plt.plot(X[y == 2, 0], X[y == 2, 1], \"g^\", label=\"Iris virginica\")\n",
    "plt.plot(X[y == 1, 0], X[y == 1, 1], \"bs\", label=\"Iris versicolor\")\n",
    "plt.plot(X[y == 0, 0], X[y == 0, 1], \"yo\", label=\"Iris setosa\")\n",
    "\n",
    "plt.contourf(x0, x1, zz, cmap=custom_cmap)\n",
    "contour = plt.contour(x0, x1, zz1, cmap=\"hot\")\n",
    "plt.clabel(contour, inline=1)\n",
    "plt.xlabel(\"Petal length\")\n",
    "plt.ylabel(\"Petal width\")\n",
    "plt.legend(loc=\"upper left\")\n",
    "plt.axis([0, 7, 0, 3.5])\n",
    "plt.grid()\n",
    "plt.show()"
   ]
  },
  {
   "cell_type": "code",
   "execution_count": null,
   "id": "97b65a2c-4ed7-41a6-9221-1fe07af3dd25",
   "metadata": {},
   "outputs": [],
   "source": []
  }
 ],
 "metadata": {
  "kernelspec": {
   "display_name": "Python 3 (ipykernel)",
   "language": "python",
   "name": "python3"
  },
  "language_info": {
   "codemirror_mode": {
    "name": "ipython",
    "version": 3
   },
   "file_extension": ".py",
   "mimetype": "text/x-python",
   "name": "python",
   "nbconvert_exporter": "python",
   "pygments_lexer": "ipython3",
   "version": "3.11.7"
  }
 },
 "nbformat": 4,
 "nbformat_minor": 5
}
